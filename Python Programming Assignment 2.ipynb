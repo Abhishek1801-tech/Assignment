{
 "cells": [
  {
   "cell_type": "markdown",
   "metadata": {},
   "source": [
    "Q 1.Write a Python program to convert kilometers to miles?"
   ]
  },
  {
   "cell_type": "code",
   "execution_count": 13,
   "metadata": {},
   "outputs": [
    {
     "name": "stdout",
     "output_type": "stream",
     "text": [
      "Enter the Kilometer144\n",
      "144 kilometer is 89.47728 in miles\n"
     ]
    }
   ],
   "source": [
    "kilometer = (input(\"Enter the Kilometer:\")) # 1st method\n",
    "value = 0.62137\n",
    "miles = float(kilometer) * value\n",
    "print(\"{} kilometer is {} in miles\".format(kilometer,miles))"
   ]
  },
  {
   "cell_type": "code",
   "execution_count": 16,
   "metadata": {},
   "outputs": [
    {
     "name": "stdout",
     "output_type": "stream",
     "text": [
      "Enter the Kilometer36\n",
      "36 Km is equal to 22.5 in miles\n"
     ]
    }
   ],
   "source": [
    "km =  int((input(\"Enter the Kilometer :\"))) # 2nd way \n",
    "half = km/2\n",
    "quarter = half/4\n",
    "\n",
    "miles = half+quarter\n",
    "\n",
    "print(\"{} Km is equal to {} in miles \".format(km,miles))"
   ]
  },
  {
   "cell_type": "markdown",
   "metadata": {},
   "source": [
    "Q 2.Write a Python program to convert Celsius to Fahrenheit?"
   ]
  },
  {
   "cell_type": "code",
   "execution_count": 23,
   "metadata": {},
   "outputs": [
    {
     "name": "stdout",
     "output_type": "stream",
     "text": [
      "Enter the temperature in celsius :23\n",
      "23 Celsius is equal to 73.4 Fahrenheit\n"
     ]
    }
   ],
   "source": [
    "celsius = int(input(\"Enter the temperature in celsius :\"))\n",
    "conv = (9/5)\n",
    "\n",
    "Fahrenheit  = (celsius * conv)+ 32\n",
    "\n",
    "print(\"{} Celsius is equal to {} Fahrenheit\".format(celsius,Fahrenheit))"
   ]
  },
  {
   "cell_type": "markdown",
   "metadata": {},
   "source": [
    "Q 3.Write a Python program to display calendar?\n"
   ]
  },
  {
   "cell_type": "code",
   "execution_count": 1,
   "metadata": {},
   "outputs": [
    {
     "name": "stdout",
     "output_type": "stream",
     "text": [
      "Enter the Year :2021\n",
      "Enter the Month :3\n",
      "     March 2021\n",
      "Mo Tu We Th Fr Sa Su\n",
      " 1  2  3  4  5  6  7\n",
      " 8  9 10 11 12 13 14\n",
      "15 16 17 18 19 20 21\n",
      "22 23 24 25 26 27 28\n",
      "29 30 31\n",
      "\n"
     ]
    }
   ],
   "source": [
    "import calendar\n",
    "\n",
    "year = int(input(\"Enter the Year :\"))\n",
    "Month = int(input(\"Enter the Month :\"))\n",
    "if Month == 0 :\n",
    "    print(calendar.calendar(year))\n",
    "else:\n",
    "    print(calendar.month(year, Month))"
   ]
  },
  {
   "cell_type": "markdown",
   "metadata": {},
   "source": [
    "Q 4.Write a Python program to solve quadratic equation?\n"
   ]
  },
  {
   "cell_type": "code",
   "execution_count": 4,
   "metadata": {},
   "outputs": [
    {
     "name": "stdout",
     "output_type": "stream",
     "text": [
      "Enter the value of a :2\n",
      "Enter the value of b :5\n",
      "Enter the value of c :3\n",
      "The solutions are (-1.5+0j) and (-1+0j)\n"
     ]
    }
   ],
   "source": [
    "import cmath\n",
    "\n",
    "a = float(input(\"Enter the value of a :\"))\n",
    "b = float(input(\"Enter the value of b :\"))\n",
    "c = float(input(\"Enter the value of c :\"))\n",
    "\n",
    "\n",
    "discriminant = (b*b) - (4*a*c)\n",
    "\n",
    "\n",
    "solution1 = (-b-cmath.sqrt(discriminant))/(2*a)\n",
    "\n",
    "solution2 = (-b+cmath.sqrt(discriminant))/(2*a)\n",
    "\n",
    "\n",
    "print(\"The solutions are {} and {}\".format(solution1,solution2))\n",
    "\n"
   ]
  },
  {
   "cell_type": "markdown",
   "metadata": {},
   "source": [
    "Q 5.Write a Python program to swap two variables without temp variable?\n",
    "\n"
   ]
  },
  {
   "cell_type": "code",
   "execution_count": 6,
   "metadata": {},
   "outputs": [
    {
     "name": "stdout",
     "output_type": "stream",
     "text": [
      "Enter the value of a :Abhishek\n",
      "Enter the value of b :Tripathi\n",
      "value of 'a' before swapping : Abhishek\n",
      "value of 'b' before swapping : Tripathi\n",
      "value of 'a' after swapping : Tripathi\n",
      "value of 'b' after swapping : Abhishek\n"
     ]
    }
   ],
   "source": [
    "a = (input (\"Enter the value of a :\"))\n",
    "\n",
    "b = (input (\"Enter the value of b :\"))\n",
    "\n",
    "print(\"value of 'a' before swapping : {}\".format(a))\n",
    "print(\"value of 'b' before swapping : {}\".format(b))\n",
    "a,b = b,a\n",
    "\n",
    "print(\"value of 'a' after swapping : {}\".format(a))\n",
    "print(\"value of 'b' after swapping : {}\".format(b))\n"
   ]
  },
  {
   "cell_type": "code",
   "execution_count": null,
   "metadata": {},
   "outputs": [],
   "source": []
  }
 ],
 "metadata": {
  "kernelspec": {
   "display_name": "Python 3",
   "language": "python",
   "name": "python3"
  },
  "language_info": {
   "codemirror_mode": {
    "name": "ipython",
    "version": 3
   },
   "file_extension": ".py",
   "mimetype": "text/x-python",
   "name": "python",
   "nbconvert_exporter": "python",
   "pygments_lexer": "ipython3",
   "version": "3.8.5"
  }
 },
 "nbformat": 4,
 "nbformat_minor": 4
}
