{
 "cells": [
  {
   "cell_type": "markdown",
   "metadata": {},
   "source": [
    "1.Write a Python Program to find sum of array?\n"
   ]
  },
  {
   "cell_type": "code",
   "execution_count": 1,
   "metadata": {},
   "outputs": [
    {
     "name": "stdout",
     "output_type": "stream",
     "text": [
      "Enter the size of array :4\n",
      "Enter the elements:\n",
      "2\n",
      "3\n",
      "4\n",
      "5\n",
      "Sum of Array is: 14\n"
     ]
    }
   ],
   "source": [
    "l =[]\n",
    "value = int(input(\"Enter the size of array :\"))\n",
    "print(\"Enter the elements:\")\n",
    "\n",
    "for i in range (value):\n",
    "    number = int(input())\n",
    "    l.append(number)\n",
    "\n",
    "print(\"Sum of Array is:\",sum(l))    \n",
    "            "
   ]
  },
  {
   "cell_type": "markdown",
   "metadata": {},
   "source": [
    "2.Write a Python Program to find largest element in an array?\n"
   ]
  },
  {
   "cell_type": "code",
   "execution_count": 5,
   "metadata": {},
   "outputs": [
    {
     "name": "stdout",
     "output_type": "stream",
     "text": [
      "Enter the size of Array :6\n",
      "Enter the elements :45\n",
      "Enter the elements :34\n",
      "Enter the elements :64\n",
      "Enter the elements :75\n",
      "Enter the elements :8\n",
      "Enter the elements :5\n",
      "Largest Element is : 75\n"
     ]
    }
   ],
   "source": [
    "l =[]\n",
    "\n",
    "v = int(input(\"Enter the size of Array :\"))\n",
    "\n",
    "for i in range(v):\n",
    "    n = int(input(\"Enter the elements :\"))\n",
    "    l.append(n)\n",
    "\n",
    "print(\"Largest Element is :\",max(l))   "
   ]
  },
  {
   "cell_type": "markdown",
   "metadata": {},
   "source": [
    "3.Write a Python Program for array rotation?\n"
   ]
  },
  {
   "cell_type": "code",
   "execution_count": 13,
   "metadata": {},
   "outputs": [
    {
     "name": "stdout",
     "output_type": "stream",
     "text": [
      "Enter the size of array :6\n",
      "enter number of rotation :2\n",
      "3\n",
      "5\n",
      "6\n",
      "7\n",
      "8\n",
      "9\n",
      "Before rotation: [3, 5, 6, 7, 8, 9]\n",
      "After left rotation: [6, 7, 8, 9, 3, 5]\n",
      "After right rotation: [3, 5, 6, 7, 8, 9]\n"
     ]
    }
   ],
   "source": [
    "def rotatebyone(l):\n",
    "    last = l[-1]\n",
    "    for i in reversed(range(len(l)-1)):\n",
    "        l[i+1] = l[i]\n",
    "    l[0] = last\n",
    "    \n",
    "def rightRotate(l,d):\n",
    "    \n",
    "    for i in range(d):\n",
    "        rotatebyone(l)\n",
    "\n",
    "\n",
    "def rotate_One(g,h,n):\n",
    "    g[:] = g[h:n]+g[0:h]\n",
    "    return g\n",
    "        \n",
    "    \n",
    "    \n",
    "\n",
    "g =[]\n",
    "arr = int(input(\"Enter the size of array :\"))\n",
    "d = int(input(\"enter number of rotation :\"))\n",
    "for i in range(arr):\n",
    "    k = int(input())\n",
    "    g.append(k)\n",
    "l = g\n",
    "n= len(g)\n",
    "h = d\n",
    "print(\"Before rotation:\",l)\n",
    "\n",
    "rotate_One(g,h,n)\n",
    "print(\"After left rotation:\",g)\n",
    "\n",
    "rightRotate(l,d)\n",
    "print(\"After right rotation:\",l)\n",
    "\n"
   ]
  },
  {
   "cell_type": "markdown",
   "metadata": {},
   "source": [
    "4.Write a Python Program to Split the array and add the first part to the end?\n"
   ]
  },
  {
   "cell_type": "code",
   "execution_count": 27,
   "metadata": {},
   "outputs": [
    {
     "name": "stdout",
     "output_type": "stream",
     "text": [
      "Enter the size of Array :\n"
     ]
    },
    {
     "ename": "ValueError",
     "evalue": "invalid literal for int() with base 10: ''",
     "output_type": "error",
     "traceback": [
      "\u001b[1;31m---------------------------------------------------------------------------\u001b[0m",
      "\u001b[1;31mValueError\u001b[0m                                Traceback (most recent call last)",
      "\u001b[1;32m<ipython-input-27-33d4b6b7c4d7>\u001b[0m in \u001b[0;36m<module>\u001b[1;34m\u001b[0m\n\u001b[0;32m      3\u001b[0m     \u001b[1;32mreturn\u001b[0m \u001b[1;33m(\u001b[0m\u001b[0ma\u001b[0m\u001b[1;33m[\u001b[0m\u001b[0md\u001b[0m\u001b[1;33m:\u001b[0m\u001b[1;33m:\u001b[0m\u001b[1;33m]\u001b[0m\u001b[1;33m+\u001b[0m\u001b[0mb\u001b[0m\u001b[1;33m[\u001b[0m\u001b[1;33m:\u001b[0m\u001b[1;33m:\u001b[0m\u001b[1;33m]\u001b[0m\u001b[1;33m)\u001b[0m\u001b[1;33m\u001b[0m\u001b[1;33m\u001b[0m\u001b[0m\n\u001b[0;32m      4\u001b[0m \u001b[0mr\u001b[0m \u001b[1;33m=\u001b[0m\u001b[1;33m[\u001b[0m\u001b[1;33m]\u001b[0m\u001b[1;33m\u001b[0m\u001b[1;33m\u001b[0m\u001b[0m\n\u001b[1;32m----> 5\u001b[1;33m \u001b[0mv\u001b[0m \u001b[1;33m=\u001b[0m \u001b[0mint\u001b[0m\u001b[1;33m(\u001b[0m\u001b[0minput\u001b[0m\u001b[1;33m(\u001b[0m\u001b[1;34m\"Enter the size of Array :\"\u001b[0m\u001b[1;33m)\u001b[0m\u001b[1;33m)\u001b[0m\u001b[1;33m\u001b[0m\u001b[1;33m\u001b[0m\u001b[0m\n\u001b[0m\u001b[0;32m      6\u001b[0m \u001b[0mp\u001b[0m \u001b[1;33m=\u001b[0m \u001b[0mint\u001b[0m\u001b[1;33m(\u001b[0m\u001b[0minput\u001b[0m\u001b[1;33m(\u001b[0m\u001b[1;34m\"Enter the position from whereyou want to split : \"\u001b[0m\u001b[1;33m)\u001b[0m\u001b[1;33m)\u001b[0m\u001b[1;33m\u001b[0m\u001b[1;33m\u001b[0m\u001b[0m\n\u001b[0;32m      7\u001b[0m \u001b[1;33m\u001b[0m\u001b[0m\n",
      "\u001b[1;31mValueError\u001b[0m: invalid literal for int() with base 10: ''"
     ]
    }
   ],
   "source": [
    "def splitArr(a,l,d):\n",
    "    b = a[:d]\n",
    "    return (a[d::]+b[::])\n",
    "r =[]\n",
    "v = int(input(\"Enter the size of Array :\"))\n",
    "p = int(input(\"Enter the position from whereyou want to split : \"))\n",
    "\n",
    "for i in range(v):\n",
    "    j = int(input())\n",
    "    r.append(j)\n",
    "u=r    \n",
    "r = splitArr(r,v,p) \n",
    "print(\"Array before spliting\",u)\n",
    "print(\"Array after spliting is:\",r, end =' ')"
   ]
  },
  {
   "cell_type": "markdown",
   "metadata": {},
   "source": [
    "5.Write a Python Program to check if given array is Monotonic?"
   ]
  },
  {
   "cell_type": "code",
   "execution_count": 31,
   "metadata": {},
   "outputs": [
    {
     "name": "stdout",
     "output_type": "stream",
     "text": [
      "Array is Monotonic or not\n",
      "Enter the size of array :5\n",
      "1\n",
      "2\n",
      "3\n",
      "4\n",
      "5\n",
      "Array is: [1, 2, 3, 4, 5]\n",
      "Yes\n"
     ]
    }
   ],
   "source": [
    "l =[]\n",
    "print(\"Array is Monotonic or not\")\n",
    "lst = int(input(\"Enter the size of array :\"))\n",
    "a1 = 0\n",
    "a2 = 0\n",
    "\n",
    "for i in range(lst):\n",
    "    g = int(input())\n",
    "    l.append(g)\n",
    "h =l\n",
    "print(\"Array is:\",h)\n",
    "for i in range(1,len(h)):\n",
    "    if(h[i-1]>h[i]):\n",
    "        a1=1\n",
    "        break\n",
    "        \n",
    "if(a1==0):\n",
    "    print(\"Yes\")\n",
    "else:\n",
    "    for j in range(len(h),0,-1):\n",
    "        if(h[i-1]<h[i]):\n",
    "            a2=1\n",
    "            break\n",
    "    if(a2==0):\n",
    "        print(\"Yes\")\n",
    "    elif(a1==1 and a2 ==1):\n",
    "        print(\"No\")"
   ]
  }
 ],
 "metadata": {
  "kernelspec": {
   "display_name": "Python 3",
   "language": "python",
   "name": "python3"
  },
  "language_info": {
   "codemirror_mode": {
    "name": "ipython",
    "version": 3
   },
   "file_extension": ".py",
   "mimetype": "text/x-python",
   "name": "python",
   "nbconvert_exporter": "python",
   "pygments_lexer": "ipython3",
   "version": "3.8.5"
  }
 },
 "nbformat": 4,
 "nbformat_minor": 4
}
