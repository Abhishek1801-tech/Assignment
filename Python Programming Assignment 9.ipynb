{
 "cells": [
  {
   "cell_type": "markdown",
   "id": "3e824783",
   "metadata": {},
   "source": [
    "Q1.Write a Python program to check if the given number is a Disarium Number?"
   ]
  },
  {
   "cell_type": "code",
   "execution_count": 3,
   "id": "30a64a21",
   "metadata": {},
   "outputs": [
    {
     "name": "stdout",
     "output_type": "stream",
     "text": [
      "Enter the Number :135\n",
      "The number of digits are: 3\n",
      "Sum of the digits are: 135\n",
      "Yes, it is Disarium number\n"
     ]
    }
   ],
   "source": [
    "import math\n",
    "n = int(input(\"Enter the Number :\"))\n",
    "temp= n\n",
    "temp1=n\n",
    "c=0\n",
    "sum=0\n",
    "\n",
    "while(temp>0):\n",
    "    d= temp%10\n",
    "    c=c+1\n",
    "    temp=temp//10\n",
    "print(\"The number of digits are:\",c)\n",
    "\n",
    "while(temp1>0):\n",
    "    d= temp1%10\n",
    "    sum= sum+int(math.pow(d,c))\n",
    "    c=c-1\n",
    "    temp1 = temp1//10\n",
    "print(\"Sum of the digits are:\",sum)\n",
    "\n",
    "if (sum ==n):\n",
    "    print(\"Yes, it is Disarium number\")\n",
    "    \n",
    "else:\n",
    "    print(\"No,it is not a Disarium Number\")"
   ]
  },
  {
   "cell_type": "markdown",
   "id": "1225c43b",
   "metadata": {},
   "source": [
    "Q2.Write a Python program to print all disarium numbers between 1 to 100?"
   ]
  },
  {
   "cell_type": "code",
   "execution_count": 3,
   "id": "7c06b542",
   "metadata": {},
   "outputs": [
    {
     "name": "stdout",
     "output_type": "stream",
     "text": [
      "The disarium numbers between 1 and 100 are:\n",
      "1\n",
      "2\n",
      "3\n",
      "4\n",
      "5\n",
      "6\n",
      "7\n",
      "8\n",
      "9\n",
      "89\n"
     ]
    }
   ],
   "source": [
    "def len_cal(num):\n",
    "    v =0\n",
    "    while(num !=0):\n",
    "        v = v+1\n",
    "        num =num//10\n",
    "    return v\n",
    "def di_sum(val):\n",
    "    r =sum =0\n",
    "    fun = len_cal(val)\n",
    "    while(val >0):\n",
    "        r=val%10\n",
    "        sum = sum +(r**fun)\n",
    "        val = val//10\n",
    "        fun = fun -1\n",
    "    return sum\n",
    "result =0\n",
    "print(\"The disarium numbers between 1 and 100 are:\")\n",
    "for i in range(1,101):\n",
    "    result = di_sum(i)\n",
    "    if(result == i):\n",
    "        print(i)"
   ]
  },
  {
   "cell_type": "markdown",
   "id": "8919ec37",
   "metadata": {},
   "source": [
    "Q3.Write a Python program to check if the given number is Happy Number? "
   ]
  },
  {
   "cell_type": "code",
   "execution_count": 9,
   "id": "70ef01e4",
   "metadata": {},
   "outputs": [
    {
     "name": "stdout",
     "output_type": "stream",
     "text": [
      "Enter the Number:82\n",
      "82 is Happy Number\n"
     ]
    }
   ],
   "source": [
    "def HappyNum(n):\n",
    "    r =sum=0\n",
    "\n",
    "    \n",
    "    while(n>0):\n",
    "        r = n%10\n",
    "        sum = sum+(r*r)\n",
    "        n = n//10\n",
    "    return sum\n",
    "n = int(input(\"Enter the Number:\"))  \n",
    "result = n \n",
    "while (result!=1 and result!=4):\n",
    "    result = HappyNum(result)\n",
    "    \n",
    "if (result == 1):\n",
    "    print(str(n)+ \" is Happy Number\")\n",
    "elif (result == 4):\n",
    "    print(str(n)+\" is not a Happy number\")\n",
    "    \n",
    "  "
   ]
  },
  {
   "cell_type": "markdown",
   "id": "a9369590",
   "metadata": {},
   "source": [
    "Q4.Write a Python program to print all happy numbers between 1 and 100? "
   ]
  },
  {
   "cell_type": "code",
   "execution_count": 15,
   "id": "c7982bca",
   "metadata": {},
   "outputs": [
    {
     "name": "stdout",
     "output_type": "stream",
     "text": [
      "List of all Happpy Numbers between 1 and 100\n",
      "1\n",
      " \n",
      "7\n",
      " \n",
      "10\n",
      " \n",
      "13\n",
      " \n",
      "19\n",
      " \n",
      "23\n",
      " \n",
      "28\n",
      " \n",
      "31\n",
      " \n",
      "32\n",
      " \n",
      "44\n",
      " \n",
      "49\n",
      " \n",
      "68\n",
      " \n",
      "70\n",
      " \n",
      "79\n",
      " \n",
      "82\n",
      " \n",
      "86\n",
      " \n",
      "91\n",
      " \n",
      "94\n",
      " \n",
      "97\n",
      " \n",
      "100\n",
      " \n"
     ]
    }
   ],
   "source": [
    "def HappyNum(n):\n",
    "    r =sum=0\n",
    "\n",
    "    \n",
    "    while(n>0):\n",
    "        r = n%10\n",
    "        sum = sum+(r*r)\n",
    "        n = n//10\n",
    "    return sum\n",
    "print(\"List of all Happpy Numbers between 1 and 100\")\n",
    "for i in range(1,101):\n",
    "    result = i \n",
    "    while (result!=1 and result!=4):\n",
    "        result = HappyNum(result)\n",
    "    \n",
    "    if (result == 1):\n",
    "        print(i),\n",
    "        print(\" \"),"
   ]
  },
  {
   "cell_type": "markdown",
   "id": "fbab9b4c",
   "metadata": {},
   "source": [
    "Q5.Write a Python program to determine whether the given number is a Harshad Number? "
   ]
  },
  {
   "cell_type": "code",
   "execution_count": 17,
   "id": "b8b93840",
   "metadata": {},
   "outputs": [
    {
     "name": "stdout",
     "output_type": "stream",
     "text": [
      "Enter the number :28\n",
      "28 is not a harshad number\n"
     ]
    }
   ],
   "source": [
    "num =int(input(\"Enter the number :\"))  \n",
    "rem = sum = 0;    \n",
    "     \n",
    "n = num;    \n",
    "      \n",
    "while(num > 0):    \n",
    "    rem = num%10;    \n",
    "    sum = sum + rem;    \n",
    "    num = num//10;    \n",
    "     \n",
    "if(n%sum == 0):    \n",
    "    print(str(n) + \" is a harshad number\");    \n",
    "else:    \n",
    "    print(str(n) + \" is not a harshad number\");    "
   ]
  },
  {
   "cell_type": "markdown",
   "id": "c696fe2b",
   "metadata": {},
   "source": [
    "Q6.Write a Python program to print all pronic numbers between 1 and 100? "
   ]
  },
  {
   "cell_type": "code",
   "execution_count": 18,
   "id": "5b439346",
   "metadata": {},
   "outputs": [
    {
     "name": "stdout",
     "output_type": "stream",
     "text": [
      "Pronic numbers between 1 and 100 are:\n",
      "2\n",
      " \n",
      "6\n",
      " \n",
      "12\n",
      " \n",
      "20\n",
      " \n",
      "30\n",
      " \n",
      "42\n",
      " \n",
      "56\n",
      " \n",
      "72\n",
      " \n",
      "90\n",
      " \n"
     ]
    }
   ],
   "source": [
    "def PronicNum(n):\n",
    "    flag =False\n",
    "    \n",
    "    for i in range(1,n+1):\n",
    "        if((i*(i+1))== n):\n",
    "            flag = True\n",
    "            break\n",
    "    return flag\n",
    "\n",
    "print(\"Pronic numbers between 1 and 100 are:\")\n",
    "for j in range(1,101):\n",
    "    if(PronicNum(j)):\n",
    "        print(j),\n",
    "        print(\" \"),"
   ]
  },
  {
   "cell_type": "code",
   "execution_count": null,
   "id": "f3f7b92c",
   "metadata": {},
   "outputs": [],
   "source": []
  }
 ],
 "metadata": {
  "kernelspec": {
   "display_name": "Python 3 (ipykernel)",
   "language": "python",
   "name": "python3"
  },
  "language_info": {
   "codemirror_mode": {
    "name": "ipython",
    "version": 3
   },
   "file_extension": ".py",
   "mimetype": "text/x-python",
   "name": "python",
   "nbconvert_exporter": "python",
   "pygments_lexer": "ipython3",
   "version": "3.9.6"
  }
 },
 "nbformat": 4,
 "nbformat_minor": 5
}
