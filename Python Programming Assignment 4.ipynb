{
 "cells": [
  {
   "cell_type": "markdown",
   "metadata": {},
   "source": [
    "Q 1.Write a Python Program to Find the Factorial of a Number?"
   ]
  },
  {
   "cell_type": "code",
   "execution_count": 9,
   "metadata": {},
   "outputs": [
    {
     "name": "stdout",
     "output_type": "stream",
     "text": [
      "Enter the value :3\n",
      "The factorial of 3! is 6\n"
     ]
    }
   ],
   "source": [
    "Number = int(input(\"Enter the value :\"))\n",
    "k = Number\n",
    "fact = 1\n",
    "while(Number > 0):\n",
    "    fact= fact *Number\n",
    "    Number = Number -1\n",
    "print(\"The factorial of {}! is {}\".format(k,fact))    "
   ]
  },
  {
   "cell_type": "markdown",
   "metadata": {},
   "source": [
    "Q 2.Write a Python Program to Display the multiplication Table?"
   ]
  },
  {
   "cell_type": "code",
   "execution_count": 2,
   "metadata": {},
   "outputs": [
    {
     "name": "stdout",
     "output_type": "stream",
     "text": [
      "Enter the number whose table you need to display :2\n",
      "2 * 1 = 2\n",
      "2 * 2 = 4\n",
      "2 * 3 = 6\n",
      "2 * 4 = 8\n",
      "2 * 5 = 10\n",
      "2 * 6 = 12\n",
      "2 * 7 = 14\n",
      "2 * 8 = 16\n",
      "2 * 9 = 18\n",
      "2 * 10 = 20\n"
     ]
    }
   ],
   "source": [
    "n = int(input(\"Enter the number whose table you need to display :\"))\n",
    "u = n\n",
    "for i in range(1,11):\n",
    "    print(\"{} * {} = {}\".format(n,i,n*i))"
   ]
  },
  {
   "cell_type": "markdown",
   "metadata": {},
   "source": [
    "Q 3.Write a Python Program to Print the Fibonacci sequence?\n"
   ]
  },
  {
   "cell_type": "code",
   "execution_count": 11,
   "metadata": {},
   "outputs": [
    {
     "name": "stdout",
     "output_type": "stream",
     "text": [
      "Enter the number :6\n",
      "0 1 1 2 3 5 "
     ]
    }
   ],
   "source": [
    "a = int(input(\"Enter the number :\"))\n",
    "w = a\n",
    "x = 0\n",
    "y = 1\n",
    "z = 0\n",
    "if (a<=0):\n",
    "    print(\"Please,enter the positive number\")\n",
    "else:\n",
    "    print(x,y, end =\" \")\n",
    "    for i in range(2,a):\n",
    "        z = x+y\n",
    "        x = y\n",
    "        y = z\n",
    "        print(z, end = \" \")    \n",
    "        "
   ]
  },
  {
   "cell_type": "markdown",
   "metadata": {},
   "source": [
    "Q 4.Write a Python Program to Check Armstrong Number?\n"
   ]
  },
  {
   "cell_type": "code",
   "execution_count": 14,
   "metadata": {},
   "outputs": [
    {
     "name": "stdout",
     "output_type": "stream",
     "text": [
      "Enter the Number :153\n",
      "Yes, it is a Armstrong Number\n"
     ]
    }
   ],
   "source": [
    "n = int(input(\"Enter the Number :\"))\n",
    "y = n\n",
    "r = 0\n",
    "if (n <=0):\n",
    "    print(\"Please enter postive number\")\n",
    "else:\n",
    "    while(n>0):\n",
    "        x = n % 10\n",
    "        r = r + x**3\n",
    "        n = n //10\n",
    "    if ( r == y):\n",
    "        \n",
    "        print(\"Yes, it is a Armstrong Number\")\n",
    "    else:\n",
    "        print(\"No ,it is not a Armstrong Number\")"
   ]
  },
  {
   "cell_type": "markdown",
   "metadata": {},
   "source": [
    "Q 5.Write a Python Program to Find Armstrong Number in an Interval?\n"
   ]
  },
  {
   "cell_type": "code",
   "execution_count": 15,
   "metadata": {},
   "outputs": [
    {
     "name": "stdout",
     "output_type": "stream",
     "text": [
      "Enter the lower number :100\n",
      "Enter the higher number :500\n",
      "153\n",
      "370\n",
      "371\n",
      "407\n"
     ]
    }
   ],
   "source": [
    "low = int(input(\"Enter the lower number :\"))\n",
    "\n",
    "high = int(input(\"Enter the higher number :\"))\n",
    "\n",
    "for i in range(low,high+1):\n",
    "    n = i\n",
    "    t = 0\n",
    "    if(n<=0):\n",
    "        print(\"Please,provide Positive Number\")\n",
    "    else:\n",
    "        while(n > 0):\n",
    "            u = n % 10\n",
    "            t = t + u**3\n",
    "            n = n // 10\n",
    "        if (i == t):\n",
    "            print(t)\n",
    "        else:\n",
    "            continue"
   ]
  },
  {
   "cell_type": "markdown",
   "metadata": {},
   "source": [
    "Q 6.Write a Python Program to Find the Sum of Natural Numbers?"
   ]
  },
  {
   "cell_type": "code",
   "execution_count": 18,
   "metadata": {},
   "outputs": [
    {
     "name": "stdout",
     "output_type": "stream",
     "text": [
      "Enter the Number :6\n",
      "6  ,sum of natural number is 21 \n"
     ]
    }
   ],
   "source": [
    "n = int(input(\"Enter the Number :\"))\n",
    "k = n\n",
    "sum = 0\n",
    "while(k > 0):\n",
    "    sum = sum + k\n",
    "    k = k-1\n",
    "print(\"{}  ,sum of natural number is {} \".format(n,sum))"
   ]
  },
  {
   "cell_type": "code",
   "execution_count": null,
   "metadata": {},
   "outputs": [],
   "source": []
  }
 ],
 "metadata": {
  "kernelspec": {
   "display_name": "Python 3",
   "language": "python",
   "name": "python3"
  },
  "language_info": {
   "codemirror_mode": {
    "name": "ipython",
    "version": 3
   },
   "file_extension": ".py",
   "mimetype": "text/x-python",
   "name": "python",
   "nbconvert_exporter": "python",
   "pygments_lexer": "ipython3",
   "version": "3.8.5"
  }
 },
 "nbformat": 4,
 "nbformat_minor": 4
}
