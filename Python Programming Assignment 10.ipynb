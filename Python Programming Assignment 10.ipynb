{
 "cells": [
  {
   "cell_type": "markdown",
   "id": "c7acaa4f",
   "metadata": {},
   "source": [
    "Q1.Write a Python program to find sum of elements in list? "
   ]
  },
  {
   "cell_type": "code",
   "execution_count": 1,
   "id": "1a098241",
   "metadata": {},
   "outputs": [
    {
     "name": "stdout",
     "output_type": "stream",
     "text": [
      "Enter the size of Number:5\n",
      "Enter the numbers:3\n",
      "Enter the numbers:2\n",
      "Enter the numbers:5\n",
      "Enter the numbers:10\n",
      "Enter the numbers:20\n",
      "The Sum of list are: 40\n"
     ]
    }
   ],
   "source": [
    "l =[]\n",
    "number =int(input(\"Enter the size of Number:\"))\n",
    "for n in range(number):\n",
    "    p = int(input(\"Enter the numbers:\"))\n",
    "    l.append(p)\n",
    "print(\"The Sum of list are:\",sum(l))    "
   ]
  },
  {
   "cell_type": "markdown",
   "id": "5207690b",
   "metadata": {},
   "source": [
    "Q2.Write a Python program to  Multiply all numbers in the list? "
   ]
  },
  {
   "cell_type": "code",
   "execution_count": 5,
   "id": "3c9d7e90",
   "metadata": {},
   "outputs": [
    {
     "name": "stdout",
     "output_type": "stream",
     "text": [
      "Enter the size of Number:3\n",
      "Enter the numbers:3\n",
      "Enter the numbers:2\n",
      "Enter the numbers:4\n",
      "The multiplication of list are: 24\n"
     ]
    }
   ],
   "source": [
    "def mul(k):\n",
    "    x=1\n",
    "    for i in l:\n",
    "        x=x*i\n",
    "    return x\n",
    "l =[]\n",
    "number =int(input(\"Enter the size of Number:\"))\n",
    "for n in range(number):\n",
    "    p = int(input(\"Enter the numbers:\"))\n",
    "    l.append(p)\n",
    "print(\"The multiplication of list are:\",mul(l))  "
   ]
  },
  {
   "cell_type": "markdown",
   "id": "a67e0fdf",
   "metadata": {},
   "source": [
    "Q3.Write a Python program to find smallest number in a list? "
   ]
  },
  {
   "cell_type": "code",
   "execution_count": 3,
   "id": "9c410993",
   "metadata": {},
   "outputs": [
    {
     "name": "stdout",
     "output_type": "stream",
     "text": [
      "Enter the size of Number:5\n",
      "Enter the numbers:45\n",
      "Enter the numbers:23\n",
      "Enter the numbers:67\n",
      "Enter the numbers:89\n",
      "Enter the numbers:55\n",
      "Elements are : [45, 23, 67, 89, 55]\n",
      "smallest element is: 23\n"
     ]
    }
   ],
   "source": [
    "l =[]\n",
    "number =int(input(\"Enter the size of Number:\"))\n",
    "for n in range(number):\n",
    "    p = int(input(\"Enter the numbers:\"))\n",
    "    l.append(p)\n",
    "print(\"Elements are :\",l)\n",
    "l.sort()\n",
    "print(\"smallest element in the list is:\",l[0])\n"
   ]
  },
  {
   "cell_type": "markdown",
   "id": "635281cb",
   "metadata": {},
   "source": [
    "Q4.Write a Python program to find largest number in a list? "
   ]
  },
  {
   "cell_type": "code",
   "execution_count": 5,
   "id": "e7a583f2",
   "metadata": {},
   "outputs": [
    {
     "name": "stdout",
     "output_type": "stream",
     "text": [
      "Enter the size of Number:4\n",
      "Enter the numbers:2\n",
      "Enter the numbers:2\n",
      "Enter the numbers:5\n",
      "Enter the numbers:6\n",
      "Elements are : [2, 2, 5, 6]\n",
      "Largest element in the list is: 6\n"
     ]
    }
   ],
   "source": [
    "l =[]\n",
    "number =int(input(\"Enter the size of Number:\"))\n",
    "for n in range(number):\n",
    "    p = int(input(\"Enter the numbers:\"))\n",
    "    l.append(p)\n",
    "print(\"Elements are :\",l)\n",
    "l.sort()\n",
    "print(\"Largest element in the list is:\",l[n])"
   ]
  },
  {
   "cell_type": "markdown",
   "id": "d927de16",
   "metadata": {},
   "source": [
    "Q5.Write a Python program to find second largest number in a list? "
   ]
  },
  {
   "cell_type": "code",
   "execution_count": 7,
   "id": "74f83cef",
   "metadata": {},
   "outputs": [
    {
     "name": "stdout",
     "output_type": "stream",
     "text": [
      "Enter the size of Number:5\n",
      "Enter the numbers:234\n",
      "Enter the numbers:54\n",
      "Enter the numbers:635\n",
      "Enter the numbers:55\n",
      "Enter the numbers:43\n",
      "Elements are : [234, 54, 635, 55, 43]\n",
      "The Seconds Largest element in the list is: 234\n"
     ]
    }
   ],
   "source": [
    "l =[]\n",
    "number =int(input(\"Enter the size of Number:\"))\n",
    "for n in range(number):\n",
    "    p = int(input(\"Enter the numbers:\"))\n",
    "    l.append(p)\n",
    "print(\"Elements are :\",l)\n",
    "l.sort()\n",
    "print(\"The Seconds Largest element in the list is:\",l[n-1])"
   ]
  },
  {
   "cell_type": "markdown",
   "id": "4c772206",
   "metadata": {},
   "source": [
    "Q6.Write a Python program to find N largest elements from a list? "
   ]
  },
  {
   "cell_type": "code",
   "execution_count": 9,
   "id": "0c8f04a9",
   "metadata": {},
   "outputs": [
    {
     "name": "stdout",
     "output_type": "stream",
     "text": [
      "Enter the size of Number:6\n",
      "Enter the numbers:34\n",
      "Enter the numbers:56\n",
      "Enter the numbers:78\n",
      "Enter the numbers:90\n",
      "Enter the numbers:56\n",
      "Enter the numbers:77\n",
      "Elements are : [34, 56, 78, 90, 56, 77]\n",
      "how many largest numbers want to know :5\n",
      "The N element in the list are: [56, 56, 77, 78, 90]\n"
     ]
    }
   ],
   "source": [
    "l =[]\n",
    "number =int(input(\"Enter the size of Number:\"))\n",
    "for n in range(number):\n",
    "    p = int(input(\"Enter the numbers:\"))\n",
    "    l.append(p)\n",
    "print(\"Elements are :\",l)\n",
    "l.sort()\n",
    "H = int(input(\"how many largest numbers want to know :\"))\n",
    "\n",
    "print(\"The N element in the list are:\",l[-H:])"
   ]
  },
  {
   "cell_type": "markdown",
   "id": "88737eb6",
   "metadata": {},
   "source": [
    "Q7.Write a Python program to print even numbers in a list? "
   ]
  },
  {
   "cell_type": "code",
   "execution_count": 13,
   "id": "ccbc2f2b",
   "metadata": {},
   "outputs": [
    {
     "name": "stdout",
     "output_type": "stream",
     "text": [
      "Enter the size of Number:8\n",
      "Enter the numbers:90\n",
      "Enter the numbers:67\n",
      "Enter the numbers:45\n",
      "Enter the numbers:41\n",
      "Enter the numbers:38\n",
      "Enter the numbers:44\n",
      "Enter the numbers:27\n",
      "Enter the numbers:66\n",
      "Elements are : [90, 67, 45, 41, 38, 44, 27, 66]\n",
      "Even elements are: [90, 38, 44, 66]\n"
     ]
    }
   ],
   "source": [
    "l =[]\n",
    "g =[]\n",
    "number =int(input(\"Enter the size of Number:\"))\n",
    "for n in range(number):\n",
    "    p = int(input(\"Enter the numbers:\"))\n",
    "    if p % 2 ==0 :\n",
    "        g.append(p)   \n",
    "    l.append(p)\n",
    "print(\"Elements are :\",l)\n",
    "print(\"Even elements are:\",g)"
   ]
  },
  {
   "cell_type": "markdown",
   "id": "1b2bce12",
   "metadata": {},
   "source": [
    "Q8.Write a Python program to print odd numbers in a List? "
   ]
  },
  {
   "cell_type": "code",
   "execution_count": 14,
   "id": "9b26c2e5",
   "metadata": {},
   "outputs": [
    {
     "name": "stdout",
     "output_type": "stream",
     "text": [
      "Enter the size of Number:4\n",
      "Enter the numbers:543\n",
      "Enter the numbers:6\n",
      "Enter the numbers:78\n",
      "Enter the numbers:99\n",
      "Elements are : [543, 6, 78, 99]\n",
      "Odd elements are: [543, 99]\n"
     ]
    }
   ],
   "source": [
    "l =[]\n",
    "g =[]\n",
    "number =int(input(\"Enter the size of Number:\"))\n",
    "for n in range(number):\n",
    "    p = int(input(\"Enter the numbers:\"))\n",
    "    if p % 2 !=0 :\n",
    "        g.append(p)   \n",
    "    l.append(p)\n",
    "print(\"Elements are :\",l)\n",
    "print(\"Odd elements are:\",g)"
   ]
  },
  {
   "cell_type": "markdown",
   "id": "bee2dd41",
   "metadata": {},
   "source": [
    "Q9.Write a Python program to Remove empty List from List? "
   ]
  },
  {
   "cell_type": "code",
   "execution_count": 21,
   "id": "13813526",
   "metadata": {},
   "outputs": [
    {
     "name": "stdout",
     "output_type": "stream",
     "text": [
      "the original list: [7, 8, 9, [], 6, [], 4, [], 56, [], [], 77, [], []]\n",
      "list with no Empty list: [7, 8, 9, 6, 4, 56, 77]\n"
     ]
    }
   ],
   "source": [
    "g =[]\n",
    "l=[]\n",
    "l =[7,8,9,[],6,[],4,[],56,[],[],77,[],[]]\n",
    "for i in l:\n",
    "    if i != []:\n",
    "        g.append(i)\n",
    "print(\"the original list:\",l)\n",
    "print(\"list with no Empty list:\",g)"
   ]
  },
  {
   "cell_type": "markdown",
   "id": "2c34683a",
   "metadata": {},
   "source": [
    "Q10.Write a Python program to Cloning or Copying a list? "
   ]
  },
  {
   "cell_type": "code",
   "execution_count": 24,
   "id": "ff95e84d",
   "metadata": {},
   "outputs": [
    {
     "name": "stdout",
     "output_type": "stream",
     "text": [
      "Enter the size of Number:5\n",
      "Enter the numbers:34\n",
      "Enter the numbers:67\n",
      "Enter the numbers:89\n",
      "Enter the numbers:56\n",
      "Enter the numbers:80\n",
      "The original list: [34, 67, 89, 56, 80]\n",
      "the clone or copied list : [34, 67, 89, 56, 80]\n"
     ]
    }
   ],
   "source": [
    "def clonef(l):\n",
    "    copy = list(l)\n",
    "    return copy\n",
    "l =[]\n",
    "number =int(input(\"Enter the size of Number:\"))\n",
    "for n in range(number):\n",
    "    p = int(input(\"Enter the numbers:\"))\n",
    "    l.append(p)\n",
    "print(\"The original list:\",l)\n",
    "k = clonef(l)\n",
    "print(\"the clone or copied list :\",k)"
   ]
  },
  {
   "cell_type": "markdown",
   "id": "76e2dfd8",
   "metadata": {},
   "source": [
    "Q11.Write a Python program to Count occurrences of an element in a list? "
   ]
  },
  {
   "cell_type": "code",
   "execution_count": 28,
   "id": "9f2dc536",
   "metadata": {},
   "outputs": [
    {
     "name": "stdout",
     "output_type": "stream",
     "text": [
      "Enter the size of Number:10\n",
      "Enter the digit whose number of occurrences needs:5\n",
      "Enter the numbers:34\n",
      "Enter the numbers:5\n",
      "Enter the numbers:35\n",
      "Enter the numbers:65\n",
      "Enter the numbers:5\n",
      "Enter the numbers:75\n",
      "Enter the numbers:85\n",
      "Enter the numbers:5\n",
      "Enter the numbers:5\n",
      "Enter the numbers:90\n",
      "List: [34, 5, 35, 65, 5, 75, 85, 5, 5, 90]\n",
      "5 occures 4 times in the list\n"
     ]
    }
   ],
   "source": [
    "l =[]\n",
    "count =0\n",
    "\n",
    "number =int(input(\"Enter the size of Number:\"))\n",
    "j = int(input(\"Enter the digit whose number of occurrences needs:\"))\n",
    "for n in range(number):\n",
    "    p = int(input(\"Enter the numbers:\"))\n",
    "    if (p == j):\n",
    "        count= count+1   \n",
    "    l.append(p)\n",
    "print(\"List:\",l)\n",
    "print(\"{} occures {} times in the list\".format(j,count))\n"
   ]
  },
  {
   "cell_type": "code",
   "execution_count": null,
   "id": "828c023e",
   "metadata": {},
   "outputs": [],
   "source": []
  }
 ],
 "metadata": {
  "kernelspec": {
   "display_name": "Python 3 (ipykernel)",
   "language": "python",
   "name": "python3"
  },
  "language_info": {
   "codemirror_mode": {
    "name": "ipython",
    "version": 3
   },
   "file_extension": ".py",
   "mimetype": "text/x-python",
   "name": "python",
   "nbconvert_exporter": "python",
   "pygments_lexer": "ipython3",
   "version": "3.9.6"
  }
 },
 "nbformat": 4,
 "nbformat_minor": 5
}
