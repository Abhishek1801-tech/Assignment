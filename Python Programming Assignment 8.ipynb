{
 "cells": [
  {
   "cell_type": "markdown",
   "metadata": {},
   "source": [
    "1.Write a Python Program to Add Two Matrices?"
   ]
  },
  {
   "cell_type": "code",
   "execution_count": 8,
   "metadata": {},
   "outputs": [
    {
     "name": "stdout",
     "output_type": "stream",
     "text": [
      "Enter the Number of Rows:2\n",
      "Enter the Number of Columns:2\n",
      "Enter the elements of First Matrix:\n",
      "4\n",
      "6\n",
      "8\n",
      "10\n",
      "First Matrix is:\n",
      "[4, 6]\n",
      "[8, 10]\n",
      "Enter the elements of Second Matrix:\n",
      "12\n",
      "14\n",
      "16\n",
      "18\n",
      "Second Matrix is:\n",
      "[12, 14]\n",
      "[16, 18]\n",
      "The Sum of Above two Matrices is:\n",
      "[16, 20]\n",
      "[24, 28]\n"
     ]
    }
   ],
   "source": [
    "rows = int(input(\"Enter the Number of Rows:\"))\n",
    "columns = int(input(\"Enter the Number of Columns:\"))\n",
    "\n",
    "print(\"Enter the elements of First Matrix:\")\n",
    "mtrix_a = [[int(input()) for i in range (columns)] for i in range(rows)]\n",
    "print(\"First Matrix is:\")\n",
    "\n",
    "for n in mtrix_a:\n",
    "    print(n)\n",
    "    \n",
    "print(\"Enter the elements of Second Matrix:\")\n",
    "mtrix_b = [[int(input()) for i in range (columns)] for i in range(rows)]\n",
    "print(\"Second Matrix is:\")\n",
    "\n",
    "for n in mtrix_b:\n",
    "    print(n)\n",
    "    \n",
    "result = [[0 for i in range(columns)]for i in range(rows)]\n",
    "\n",
    "for i in range(rows):\n",
    "    for j in range(columns):\n",
    "        result[i][j] = mtrix_a[i][j]+mtrix_b[i][j]\n",
    "        \n",
    "print(\"The Sum of Above two Matrices is:\")\n",
    "\n",
    "for r in result:\n",
    "    print(r)"
   ]
  },
  {
   "cell_type": "markdown",
   "metadata": {},
   "source": [
    "2.Write a Python Program to Multiply Two Matrices?\n"
   ]
  },
  {
   "cell_type": "code",
   "execution_count": 5,
   "metadata": {},
   "outputs": [
    {
     "name": "stdout",
     "output_type": "stream",
     "text": [
      "Enter the Number of rows for the first matrix:2\n",
      "Enter the Number of Columns for the first matrix:3\n",
      "Enter the elements of First Matrix:\n",
      "1\n",
      "2\n",
      "3\n",
      "4\n",
      "5\n",
      "6\n",
      "First Matrix is:\n",
      "[1, 2, 3]\n",
      "[4, 5, 6]\n",
      "Enter the Number of Columns for the second matrix:2\n",
      "Enter the elements of Second Matrix:\n",
      "7\n",
      "8\n",
      "9\n",
      "10\n",
      "11\n",
      "12\n",
      "Second Matrix is:\n",
      "[7, 8]\n",
      "[9, 10]\n",
      "[11, 12]\n",
      "\n",
      "Matrix_a X Matrix_b is:\n",
      "[58, 64]\n",
      "[139, 154]\n"
     ]
    }
   ],
   "source": [
    "rows_a = int(input(\"Enter the Number of rows for the first matrix:\"))\n",
    "columns_a = int(input(\"Enter the Number of Columns for the first matrix:\"))\n",
    "\n",
    "print(\"Enter the elements of First Matrix:\")\n",
    "mtrix_a = [[int(input()) for i in range (columns_a)] for i in range(rows_a)]\n",
    "\n",
    "print(\"First Matrix is:\")\n",
    "for n in mtrix_a:\n",
    "    \n",
    "    print(n)\n",
    "    \n",
    "columns_b = int(input(\"Enter the Number of Columns for the second matrix:\")) \n",
    "print(\"Enter the elements of Second Matrix:\")\n",
    "mtrix_b = [[int(input()) for i in range(columns_b)] for i in range(columns_a)]\n",
    "\n",
    "print(\"Second Matrix is:\")\n",
    "for n in  mtrix_b:\n",
    "    print(n)\n",
    "\n",
    "result =[[0 for i in range (columns_b)] for i in range(rows_a)]\n",
    "\n",
    "for i in range(len(mtrix_a)):\n",
    "    for j in range(len(mtrix_b[0])):\n",
    "        for k in range(len(mtrix_b)):\n",
    "            result [i][j]+=mtrix_a[i][k]*mtrix_b[k][j]\n",
    "\n",
    "print(\"\\nMatrix_a X Matrix_b is:\")\n",
    "for r in result:\n",
    "    print(r)"
   ]
  },
  {
   "cell_type": "markdown",
   "metadata": {},
   "source": [
    "3.Write a Python Program to Transpose a Matrix?\n"
   ]
  },
  {
   "cell_type": "code",
   "execution_count": 7,
   "metadata": {},
   "outputs": [
    {
     "name": "stdout",
     "output_type": "stream",
     "text": [
      "Enter the number of rows:3\n",
      "Enter the number of Columns:3\n",
      "Enter the elements of Matrix:\n",
      "1\n",
      "2\n",
      "3\n",
      "4\n",
      "5\n",
      "6\n",
      "7\n",
      "8\n",
      "9\n",
      "------Your Matrix is------\n",
      "[1, 2, 3]\n",
      "[4, 5, 6]\n",
      "[7, 8, 9]\n",
      "Transpose matrix is:\n",
      "[1, 4, 7]\n",
      "[2, 5, 8]\n",
      "[3, 6, 9]\n"
     ]
    }
   ],
   "source": [
    "rows = int(input(\"Enter the number of rows:\"))\n",
    "column = int(input(\"Enter the number of Columns:\"))\n",
    "\n",
    "print(\"Enter the elements of Matrix:\")\n",
    "matrix = [[int(input()) for i in range (column)] for i in range(rows)]\n",
    "print(\"------Your Matrix is------\")\n",
    "for n in matrix:\n",
    "    print(n)\n",
    "    \n",
    "result = [[0 for i in range(rows)] for j in range(column)]\n",
    "\n",
    "for r in range(rows):\n",
    "    \n",
    "    for c in range(column):\n",
    "        result[c][r] = matrix[r][c]\n",
    "        \n",
    "print(\"Transpose matrix is:\")\n",
    "\n",
    "for r in result:\n",
    "    print(r)"
   ]
  },
  {
   "cell_type": "markdown",
   "metadata": {},
   "source": [
    "4.Write a Python Program to Sort Words in Alphabetic Order?\n"
   ]
  },
  {
   "cell_type": "code",
   "execution_count": 9,
   "metadata": {},
   "outputs": [
    {
     "name": "stdout",
     "output_type": "stream",
     "text": [
      "Enter the string you want to sort:\n",
      "I will be DS very soon\n",
      "The sorted words are:\n",
      "be\n",
      "ds\n",
      "i\n",
      "soon\n",
      "very\n",
      "will\n"
     ]
    }
   ],
   "source": [
    "sent = input(\"Enter the string you want to sort:\\n\")\n",
    "\n",
    "words = [word.lower()  for word in sent.split()]\n",
    "\n",
    "words.sort()\n",
    "\n",
    "print(\"The sorted words are:\")\n",
    "\n",
    "for word in words:\n",
    "    print(word)"
   ]
  },
  {
   "cell_type": "markdown",
   "metadata": {},
   "source": [
    "5.Write a Python Program to Remove Punctuation From a String?"
   ]
  },
  {
   "cell_type": "code",
   "execution_count": 12,
   "metadata": {},
   "outputs": [
    {
     "name": "stdout",
     "output_type": "stream",
     "text": [
      "ENter the String\n",
      ":Hey!,We will survive once again.\n",
      " HeyWe will survive once again\n"
     ]
    }
   ],
   "source": [
    "punctuations = '''!()_[]{};:'\"\\,<>./?@#$%^&*_~'''\n",
    "s = input(\"ENter the String\\n:\")\n",
    "no_punct = \" \"\n",
    "for char in s:\n",
    "    if char not in punctuations:\n",
    "        no_punct = no_punct + char\n",
    "\n",
    "print(no_punct)        "
   ]
  }
 ],
 "metadata": {
  "kernelspec": {
   "display_name": "Python 3",
   "language": "python",
   "name": "python3"
  },
  "language_info": {
   "codemirror_mode": {
    "name": "ipython",
    "version": 3
   },
   "file_extension": ".py",
   "mimetype": "text/x-python",
   "name": "python",
   "nbconvert_exporter": "python",
   "pygments_lexer": "ipython3",
   "version": "3.8.5"
  }
 },
 "nbformat": 4,
 "nbformat_minor": 4
}
