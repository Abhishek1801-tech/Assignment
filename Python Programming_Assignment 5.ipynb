{
 "cells": [
  {
   "cell_type": "markdown",
   "metadata": {},
   "source": [
    "1.Write a Python Program to Find LCM?"
   ]
  },
  {
   "cell_type": "code",
   "execution_count": 1,
   "metadata": {},
   "outputs": [
    {
     "name": "stdout",
     "output_type": "stream",
     "text": [
      "Enter the 1st number:2\n",
      "Enter the 2nd number:4\n",
      "LCM of2 and 4 is :4\n"
     ]
    }
   ],
   "source": [
    "a = int(input(\"Enter the 1st number:\"))\n",
    "b = int(input(\"Enter the 2nd number:\"))\n",
    "\n",
    "if(a>b):\n",
    "    c = a\n",
    "else:\n",
    "    c = b\n",
    "\n",
    "while(1):\n",
    "    if(c%a==0 and c%b==0):\n",
    "        print(\"LCM of {} and {} is : {}\".format(a,b,c))\n",
    "        break\n",
    "    c = c+1    "
   ]
  },
  {
   "cell_type": "markdown",
   "metadata": {},
   "source": [
    "2.Write a Python Program to Find HCF?"
   ]
  },
  {
   "cell_type": "code",
   "execution_count": 4,
   "metadata": {},
   "outputs": [
    {
     "name": "stdout",
     "output_type": "stream",
     "text": [
      "Enter the 1st number :24\n",
      "Enter the 2nd number :54\n",
      "The H.C.F of 24 and 54 is : 6\n"
     ]
    }
   ],
   "source": [
    "a = int(input(\"Enter the 1st number :\"))\n",
    "b = int(input(\"Enter the 2nd number :\"))\n",
    "\n",
    "def hcf(x,y):\n",
    "    if x>y:\n",
    "        c = y\n",
    "    else:\n",
    "        c = x\n",
    "        \n",
    "    for i in range(1,c+1):\n",
    "        if((x%i == 0) and (y% i ==0)):\n",
    "            hcf = i\n",
    "    return hcf\n",
    "print(\"The H.C.F of\",a,\"and\",b,\"is :\",hcf(a,b))"
   ]
  },
  {
   "cell_type": "markdown",
   "metadata": {},
   "source": [
    "3.Write a Python Program to Convert Decimal to Binary, Octal and Hexadecimal?"
   ]
  },
  {
   "cell_type": "code",
   "execution_count": 10,
   "metadata": {},
   "outputs": [
    {
     "name": "stdout",
     "output_type": "stream",
     "text": [
      "Enter the Decimal you want to convert :4567\n",
      "The decimal Value of  4567 is :\n",
      "0b1000111010111 In binary\n",
      "0o10727 In octal\n",
      "0x11d7 In hexa\n"
     ]
    }
   ],
   "source": [
    "value = int(input(\"Enter the Decimal you want to convert :\"))\n",
    "    \n",
    "print(\"The decimal Value of \",value,\"is :\")\n",
    "print(bin(value),\"In binary\")\n",
    "print(oct(value),\"In octal\")\n",
    "print(hex(value),\"In hexa\")\n",
    "\n",
    "\n"
   ]
  },
  {
   "cell_type": "markdown",
   "metadata": {},
   "source": [
    "4.Write a Python Program To Find ASCII value of a character?"
   ]
  },
  {
   "cell_type": "code",
   "execution_count": 17,
   "metadata": {},
   "outputs": [
    {
     "name": "stdout",
     "output_type": "stream",
     "text": [
      "Enter a character whose ASCII value you want to known :S\n",
      "The ASCII value of char S is : 83\n"
     ]
    }
   ],
   "source": [
    "value = input(\"Enter a character whose ASCII value you want to known :\")\n",
    "print(\"The ASCII value of char {} is : {}\".format(value,ord(value)))"
   ]
  },
  {
   "cell_type": "markdown",
   "metadata": {},
   "source": [
    "5.Write a Python Program to Make a Simple Calculator with 4 basic mathematical operations?"
   ]
  },
  {
   "cell_type": "code",
   "execution_count": 21,
   "metadata": {},
   "outputs": [
    {
     "name": "stdout",
     "output_type": "stream",
     "text": [
      "Select the operation\n",
      "+.ADD\n",
      "-.Subtract\n",
      "*.Multiply\n",
      "/.Divide\n",
      "\n",
      "Enter the value 1 :4\n",
      "Enter the value 2 :2\n",
      "ENTER CHOICE(+/-/*//):-\n",
      "4 - 2 = 2\n"
     ]
    }
   ],
   "source": [
    "print(\"Select the operation\")\n",
    "print(\"+.ADD\\n\" \"-.Subtract\\n\" \"*.Multiply\\n\" \"/.Divide\\n\")\n",
    "a = int(input(\"Enter the value 1 :\"))\n",
    "b = int(input(\"Enter the value 2 :\"))\n",
    "operation = input(\"ENTER CHOICE(+/-/*//):\")\n",
    "\n",
    "if operation == '+':\n",
    "    def add(x,y):\n",
    "        return x+y\n",
    "    print(a,\"+\",b,\"=\",add(a,b))\n",
    "    \n",
    "if operation == '-':\n",
    "    def sub(x,y):\n",
    "        return x-y\n",
    "    print(a,\"-\",b,\"=\",sub(a,b))\n",
    "    \n",
    "if operation == '*':\n",
    "    def mul(x,y):\n",
    "        return x*y\n",
    "    print(a,\"*\",b,\"=\",mul(a,b))\n",
    "\n",
    "if operation == '/':\n",
    "    def div(x,y):\n",
    "        return x/y\n",
    "    print(a,\"/\",b,\"=\",div(a,b))\n"
   ]
  }
 ],
 "metadata": {
  "kernelspec": {
   "display_name": "Python 3",
   "language": "python",
   "name": "python3"
  },
  "language_info": {
   "codemirror_mode": {
    "name": "ipython",
    "version": 3
   },
   "file_extension": ".py",
   "mimetype": "text/x-python",
   "name": "python",
   "nbconvert_exporter": "python",
   "pygments_lexer": "ipython3",
   "version": "3.8.5"
  }
 },
 "nbformat": 4,
 "nbformat_minor": 4
}
