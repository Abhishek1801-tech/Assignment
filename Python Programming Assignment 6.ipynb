{
 "cells": [
  {
   "cell_type": "markdown",
   "metadata": {},
   "source": [
    "1.Write a Python Program to Display Fibonacci Sequence Using Recursion?"
   ]
  },
  {
   "cell_type": "code",
   "execution_count": 2,
   "metadata": {},
   "outputs": [
    {
     "name": "stdout",
     "output_type": "stream",
     "text": [
      "Enter number of items :5\n",
      "Fibonacci sequence:\n",
      "0\n",
      "1\n",
      "1\n",
      "2\n",
      "3\n"
     ]
    }
   ],
   "source": [
    "def fibo(e):\n",
    "    if e<=1:\n",
    "        return e\n",
    "    else:\n",
    "        return(fibo(e-1)+fibo(e-2))\n",
    "\n",
    "n = int(input(\"Enter number of items :\"))    \n",
    "\n",
    "if n<=0:\n",
    "    print(\"plzz enter +ve integer\")\n",
    "\n",
    "else:\n",
    "    print(\"Fibonacci sequence:\")\n",
    "    for i in range(n):\n",
    "        print(fibo(i))"
   ]
  },
  {
   "cell_type": "markdown",
   "metadata": {},
   "source": [
    "2.Write a Python Program to Find Factorial of Number Using Recursion?\n"
   ]
  },
  {
   "cell_type": "code",
   "execution_count": 6,
   "metadata": {
    "scrolled": true
   },
   "outputs": [
    {
     "name": "stdout",
     "output_type": "stream",
     "text": [
      "enter the number:5\n",
      "factorial of 5 is: 120\n"
     ]
    }
   ],
   "source": [
    "def Factorial(n):\n",
    "    if n ==1:\n",
    "        return n\n",
    "    else:\n",
    "        return n*Factorial(n-1)\n",
    "    \n",
    "y = int(input(\"enter the number:\"))\n",
    "\n",
    "if y<1:\n",
    "    print(\"factorial does not exists for -ve numbers\")\n",
    "elif y ==0:\n",
    "    print(\"Factorial of 0 is :1\")\n",
    "else:\n",
    "    print(\"factorial of\",y,\"is:\",Factorial(y))"
   ]
  },
  {
   "cell_type": "markdown",
   "metadata": {},
   "source": [
    "3.Write a Python Program to calculate your Body Mass Index?"
   ]
  },
  {
   "cell_type": "code",
   "execution_count": 13,
   "metadata": {
    "scrolled": true
   },
   "outputs": [
    {
     "name": "stdout",
     "output_type": "stream",
     "text": [
      "Enter your height(m):6.4\n",
      "Enter your weight(kg):73\n",
      "Your Body Mass Index is: 1.7822265624999996\n"
     ]
    }
   ],
   "source": [
    "def bmi(w,h):\n",
    "    return (w/(h*h))\n",
    "\n",
    "height=float(input(\"Enter your height(m):\"))\n",
    "weight = float(input(\"Enter your weight(kg):\"))\n",
    "r = bmi(weight,height)\n",
    "print(\"Your Body Mass Index is:\",r)        "
   ]
  },
  {
   "cell_type": "markdown",
   "metadata": {},
   "source": [
    "4.Write a Python Program to calculate the natural logarithm of any number?"
   ]
  },
  {
   "cell_type": "code",
   "execution_count": 16,
   "metadata": {},
   "outputs": [
    {
     "name": "stdout",
     "output_type": "stream",
     "text": [
      "Enter the value whose log you want to calculate:43\n",
      "The log of 43.0 is:3.7612001156935624\n"
     ]
    }
   ],
   "source": [
    "import math\n",
    "\n",
    "def log(x):\n",
    "    return math.log(x)\n",
    "\n",
    "n = float(input(\"Enter the value whose log you want to calculate:\"))\n",
    "t =log(n)\n",
    "\n",
    "print(\"The log of {} is:{}\".format(n,t))"
   ]
  },
  {
   "cell_type": "markdown",
   "metadata": {},
   "source": [
    "5.Write a Python Program for cube sum of first n natural numbers?"
   ]
  },
  {
   "cell_type": "code",
   "execution_count": 26,
   "metadata": {},
   "outputs": [
    {
     "name": "stdout",
     "output_type": "stream",
     "text": [
      "enter till which value :9\n",
      "Sum of first 9 natural numbers  is:2025.0\n"
     ]
    }
   ],
   "source": [
    "def sumofSeries(v):\n",
    "    x = (v*(v+1)/2)\n",
    "    return (x*x)\n",
    "\n",
    "n = int(input(\"enter till which value :\"))\n",
    "k = sumofSeries(n)\n",
    "print(\"Sum of first {} natural numbers  is:{}\".format(n,sumofSeries(n)))      "
   ]
  }
 ],
 "metadata": {
  "kernelspec": {
   "display_name": "Python 3",
   "language": "python",
   "name": "python3"
  },
  "language_info": {
   "codemirror_mode": {
    "name": "ipython",
    "version": 3
   },
   "file_extension": ".py",
   "mimetype": "text/x-python",
   "name": "python",
   "nbconvert_exporter": "python",
   "pygments_lexer": "ipython3",
   "version": "3.8.5"
  }
 },
 "nbformat": 4,
 "nbformat_minor": 4
}
