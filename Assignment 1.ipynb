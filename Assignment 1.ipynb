{
 "cells": [
  {
   "cell_type": "markdown",
   "metadata": {},
   "source": [
    "Q 1. . What are the differences between operators and values in the following?\n",
    "\n",
    "*\n",
    "\n",
    "'hello'\n",
    "\n",
    "-87.8\n",
    "\n",
    "-\n",
    "\n",
    "/\n",
    "\n",
    "+\n",
    "\n",
    "6\n"
   ]
  },
  {
   "cell_type": "markdown",
   "metadata": {},
   "source": [
    "Ans 1-color='Blue'>Operators--> a symbol which is responsible for a particular operation between two operands.\n",
    "    \n",
    "                   - <-- Subtration Operator\n",
    "                         \n",
    "                   * <-- Multiplication Operator\n",
    "    \n",
    "                   / <-- Division Operator\n",
    "                         \n",
    "                   + <-- Addition Operator\n",
    "    \n",
    " <font color='Blue'> --->  Above all comes under Arihemetic Operators \n",
    "    \n",
    "                  Values ---> Kind of information\n",
    "                  \n",
    "                       'hello' <-- String Value\n",
    "                \n",
    "                        -87.8 <-- Floating value\n",
    "    \n",
    "                         6 <-- Integer Value  \n",
    "    \n",
    "                         "
   ]
  },
  {
   "cell_type": "markdown",
   "metadata": {},
   "source": [
    "Q 2. What is the difference between string and variable?\n",
    "\n",
    "      spam\n",
    "     'spam'\n"
   ]
  },
  {
   "cell_type": "markdown",
   "metadata": {},
   "source": [
    "Ans 2- <Font color = \"Blue\"> String --> It is type of Information written inside quotes.\n",
    "    \n",
    "                  'spam'\n",
    "        \n",
    "   <font color='Blue'> Variable --> It is a name used to store different types of values in it .\n",
    "          \n",
    "                     spam \n",
    "        \n",
    " <font color='Blue'>spam = 'spam' -- We have store string value ,i.e 'spam' , in spam named variable\n"
   ]
  },
  {
   "cell_type": "markdown",
   "metadata": {},
   "source": [
    "Q 3.Describe three different data forms.\n"
   ]
  },
  {
   "cell_type": "markdown",
   "metadata": {},
   "source": [
    "Ans 3-<font color = \"Blue\"> Three form of data forms are:-\n",
    "    \n",
    "                     1- Integers --type of data form which store posiitve and negative whole number with no decimal point.\n",
    "                                        for example --> 34 , -96.\n",
    "    \n",
    "                     2- String  ---> type of data form which is a collection of one or more characters put inside quotes.\n",
    "                                         for example --> \"Abhishek Tripathi\" , \"I\".\n",
    "    \n",
    "                     3- Floating --> type of data form which store number with decimal points.dividing the integer \n",
    "                                         and fractional parts.\n",
    "    \n",
    "                                         for example --> -87.6 , 144.896\n",
    " "
   ]
  },
  {
   "cell_type": "markdown",
   "metadata": {},
   "source": [
    "Q 4. What makes up an expression? What are the functions of all expressions?"
   ]
  },
  {
   "cell_type": "markdown",
   "metadata": {},
   "source": [
    "Ans 4 - <font color = \"Blue\" > A combination of values, variables, operators are called <u><b>Expression<b></u>. the main fuction of expression to evaluate and display output."
   ]
  },
  {
   "cell_type": "markdown",
   "metadata": {},
   "source": [
    "Q 5. In this chapter, assignment statements such as spam = 10 were added. What's the difference between a declaration and an expression?\n"
   ]
  },
  {
   "cell_type": "markdown",
   "metadata": {},
   "source": [
    "Ans 5 - <font color =\"Blue\" > Statement is a complete line of code which perform some action ,while expression is any section of code that evaluates to a value.\n",
    "              \n",
    "              for example: \n",
    "              \n",
    "              Print() or a = 6 # Statement\n",
    "              \n",
    "              \n",
    "              7+2 or 7 == 7 # Expression\n",
    "              \n",
    "            "
   ]
  },
  {
   "cell_type": "markdown",
   "metadata": {},
   "source": [
    " Q 6. After running the following code, what does the variable bacon contain?\n",
    "bacon = 22\n",
    "bacon + 1\n"
   ]
  },
  {
   "cell_type": "code",
   "execution_count": 6,
   "metadata": {},
   "outputs": [
    {
     "data": {
      "text/plain": [
       "23"
      ]
     },
     "execution_count": 6,
     "metadata": {},
     "output_type": "execute_result"
    }
   ],
   "source": [
    "bacon =22 # 22 assign to variable named bacon\n",
    "bacon +1  # here we are adding 1 to bacon value 1.e bacon =bacon +1 . Output will be 23"
   ]
  },
  {
   "cell_type": "markdown",
   "metadata": {},
   "source": [
    "Q 7. What should the values of the following two terms be?\n",
    "\n",
    "'spam' + 'spamspam'\n",
    "'spam' * 3\n"
   ]
  },
  {
   "cell_type": "code",
   "execution_count": 7,
   "metadata": {},
   "outputs": [
    {
     "data": {
      "text/plain": [
       "'spamspamspam'"
      ]
     },
     "execution_count": 7,
     "metadata": {},
     "output_type": "execute_result"
    }
   ],
   "source": [
    "'spam'+'spamspam'"
   ]
  },
  {
   "cell_type": "code",
   "execution_count": 8,
   "metadata": {},
   "outputs": [
    {
     "data": {
      "text/plain": [
       "'spamspamspam'"
      ]
     },
     "execution_count": 8,
     "metadata": {},
     "output_type": "execute_result"
    }
   ],
   "source": [
    "'spam'*3"
   ]
  },
  {
   "cell_type": "markdown",
   "metadata": {},
   "source": [
    "<font color =\"Blue\"> Both are giving same output as shown above i.e, 'spamspamspam'"
   ]
  },
  {
   "cell_type": "markdown",
   "metadata": {},
   "source": [
    "Q 8.Why is it that eggs is a true variable name but 100 is not?\n"
   ]
  },
  {
   "cell_type": "code",
   "execution_count": 10,
   "metadata": {},
   "outputs": [],
   "source": [
    "eggs = 20 # Adsigning 20 to variable name eggs"
   ]
  },
  {
   "cell_type": "code",
   "execution_count": 11,
   "metadata": {},
   "outputs": [
    {
     "data": {
      "text/plain": [
       "20"
      ]
     },
     "execution_count": 11,
     "metadata": {},
     "output_type": "execute_result"
    }
   ],
   "source": [
    "eggs"
   ]
  },
  {
   "cell_type": "code",
   "execution_count": 12,
   "metadata": {},
   "outputs": [
    {
     "ename": "SyntaxError",
     "evalue": "cannot assign to literal (<ipython-input-12-7d1a553b93d0>, line 1)",
     "output_type": "error",
     "traceback": [
      "\u001b[1;36m  File \u001b[1;32m\"<ipython-input-12-7d1a553b93d0>\"\u001b[1;36m, line \u001b[1;32m1\u001b[0m\n\u001b[1;33m    100 = 20 #Assigning 20 to variable name 100\u001b[0m\n\u001b[1;37m    ^\u001b[0m\n\u001b[1;31mSyntaxError\u001b[0m\u001b[1;31m:\u001b[0m cannot assign to literal\n"
     ]
    }
   ],
   "source": [
    "100 = 20 #Assigning 20 to variable name 100"
   ]
  },
  {
   "cell_type": "markdown",
   "metadata": {},
   "source": [
    "<font color =\"Blue\"> As shown above 100 shown error ,but eggs executed, So, we come into conclusion that,<u><b> Variable names can't start with number</b>,</u>"
   ]
  },
  {
   "cell_type": "markdown",
   "metadata": {},
   "source": [
    "Q 9. Which of the following three functions may be used to convert a value to an integer, a floating-point number, or a string?\n"
   ]
  },
  {
   "cell_type": "markdown",
   "metadata": {},
   "source": [
    "Ans 9 - <font color =\"Blue\"> 1. For coverting to integer ,function used is int()\n",
    "    <font color =\"Blue\" >2. For coverting to floating-point ,function used is float()\n",
    "     <font color =\"Blue\"> 3.For coverting to string ,function used is str()\n",
    "  "
   ]
  },
  {
   "cell_type": "markdown",
   "metadata": {},
   "source": [
    "Q 10.What is the error caused by this expression? What would you do about it?\n",
    "\n",
    "'I have eaten ' + 99 + ' burritos.'"
   ]
  },
  {
   "cell_type": "code",
   "execution_count": 14,
   "metadata": {},
   "outputs": [
    {
     "ename": "TypeError",
     "evalue": "can only concatenate str (not \"int\") to str",
     "output_type": "error",
     "traceback": [
      "\u001b[1;31m---------------------------------------------------------------------------\u001b[0m",
      "\u001b[1;31mTypeError\u001b[0m                                 Traceback (most recent call last)",
      "\u001b[1;32m<ipython-input-14-9230c793b9b6>\u001b[0m in \u001b[0;36m<module>\u001b[1;34m\u001b[0m\n\u001b[1;32m----> 1\u001b[1;33m \u001b[1;34m'I have eaten'\u001b[0m \u001b[1;33m+\u001b[0m \u001b[1;36m99\u001b[0m \u001b[1;33m+\u001b[0m \u001b[1;34m'burritos'\u001b[0m\u001b[1;33m\u001b[0m\u001b[1;33m\u001b[0m\u001b[0m\n\u001b[0m",
      "\u001b[1;31mTypeError\u001b[0m: can only concatenate str (not \"int\") to str"
     ]
    }
   ],
   "source": [
    "'I have eaten' + 99 + 'burritos'"
   ]
  },
  {
   "cell_type": "markdown",
   "metadata": {},
   "source": [
    "<font color = \"blue\">  As its showing Type Error , we have to convert 99 which is a integer type to string type. with the help of str function"
   ]
  },
  {
   "cell_type": "code",
   "execution_count": 18,
   "metadata": {},
   "outputs": [
    {
     "data": {
      "text/plain": [
       "'I have eaten99burritos'"
      ]
     },
     "execution_count": 18,
     "metadata": {},
     "output_type": "execute_result"
    }
   ],
   "source": [
    "'I have eaten'  +  str(99)  +  'burritos' # conveted integer to string "
   ]
  },
  {
   "cell_type": "code",
   "execution_count": null,
   "metadata": {},
   "outputs": [],
   "source": []
  }
 ],
 "metadata": {
  "kernelspec": {
   "display_name": "Python 3",
   "language": "python",
   "name": "python3"
  },
  "language_info": {
   "codemirror_mode": {
    "name": "ipython",
    "version": 3
   },
   "file_extension": ".py",
   "mimetype": "text/x-python",
   "name": "python",
   "nbconvert_exporter": "python",
   "pygments_lexer": "ipython3",
   "version": "3.8.5"
  }
 },
 "nbformat": 4,
 "nbformat_minor": 4
}
